{
 "cells": [
  {
   "cell_type": "code",
   "execution_count": 1,
   "id": "a5ee08d8",
   "metadata": {},
   "outputs": [
    {
     "name": "stdout",
     "output_type": "stream",
     "text": [
      "Collecting ibm_db==3.1.0\n",
      "  Using cached ibm_db-3.1.0-py3-none-any.whl\n",
      "Collecting ibm_db_sa==0.3.3\n",
      "  Using cached ibm_db_sa-0.3.3-py3-none-any.whl\n",
      "Collecting sqlalchemy>=0.7.3\n",
      "  Using cached SQLAlchemy-2.0.17-cp39-cp39-win_amd64.whl (2.0 MB)\n",
      "Collecting typing-extensions>=4.2.0\n",
      "  Using cached typing_extensions-4.6.3-py3-none-any.whl (31 kB)\n",
      "Collecting greenlet!=0.4.17\n",
      "  Using cached greenlet-2.0.2-cp39-cp39-win_amd64.whl (192 kB)\n",
      "Installing collected packages: typing-extensions, greenlet, sqlalchemy, ibm-db-sa, ibm-db\n",
      "  Attempting uninstall: typing-extensions\n",
      "    Found existing installation: typing-extensions 4.6.3\n",
      "    Uninstalling typing-extensions-4.6.3:\n",
      "      Successfully uninstalled typing-extensions-4.6.3\n",
      "  Attempting uninstall: greenlet\n",
      "    Found existing installation: greenlet 2.0.2\n",
      "    Uninstalling greenlet-2.0.2:\n",
      "      Successfully uninstalled greenlet-2.0.2\n",
      "  Attempting uninstall: sqlalchemy\n",
      "    Found existing installation: SQLAlchemy 1.3.24\n",
      "    Uninstalling SQLAlchemy-1.3.24:\n",
      "      Successfully uninstalled SQLAlchemy-1.3.24\n",
      "  Attempting uninstall: ibm-db-sa\n",
      "    Found existing installation: ibm-db-sa 0.3.3\n",
      "    Uninstalling ibm-db-sa-0.3.3:\n",
      "      Successfully uninstalled ibm-db-sa-0.3.3\n",
      "  Attempting uninstall: ibm-db\n",
      "    Found existing installation: ibm-db 3.1.0\n",
      "    Uninstalling ibm-db-3.1.0:\n",
      "      Successfully uninstalled ibm-db-3.1.0\n",
      "Successfully installed greenlet-2.0.2 ibm-db-3.1.0 ibm-db-sa-0.3.3 sqlalchemy-2.0.17 typing-extensions-4.6.3\n"
     ]
    },
    {
     "name": "stderr",
     "output_type": "stream",
     "text": [
      "WARNING: Ignoring invalid distribution - (c:\\users\\eedc\\anaconda\\lib\\site-packages)\n",
      "WARNING: Ignoring invalid distribution - (c:\\users\\eedc\\anaconda\\lib\\site-packages)\n",
      "WARNING: Ignoring invalid distribution - (c:\\users\\eedc\\anaconda\\lib\\site-packages)\n",
      "    WARNING: Ignoring invalid distribution - (c:\\users\\eedc\\anaconda\\lib\\site-packages)\n",
      "    WARNING: Ignoring invalid distribution - (c:\\users\\eedc\\anaconda\\lib\\site-packages)\n",
      "    WARNING: Ignoring invalid distribution - (c:\\users\\eedc\\anaconda\\lib\\site-packages)\n",
      "    WARNING: Ignoring invalid distribution - (c:\\users\\eedc\\anaconda\\lib\\site-packages)\n",
      "    WARNING: Ignoring invalid distribution - (c:\\users\\eedc\\anaconda\\lib\\site-packages)\n",
      "WARNING: Ignoring invalid distribution - (c:\\users\\eedc\\anaconda\\lib\\site-packages)\n",
      "WARNING: Ignoring invalid distribution - (c:\\users\\eedc\\anaconda\\lib\\site-packages)\n",
      "WARNING: Ignoring invalid distribution - (c:\\users\\eedc\\anaconda\\lib\\site-packages)\n",
      "WARNING: Ignoring invalid distribution - (c:\\users\\eedc\\anaconda\\lib\\site-packages)\n",
      "WARNING: Ignoring invalid distribution - (c:\\users\\eedc\\anaconda\\lib\\site-packages)\n",
      "WARNING: Ignoring invalid distribution - (c:\\users\\eedc\\anaconda\\lib\\site-packages)\n",
      "WARNING: Ignoring invalid distribution - (c:\\users\\eedc\\anaconda\\lib\\site-packages)\n",
      "WARNING: Ignoring invalid distribution - (c:\\users\\eedc\\anaconda\\lib\\site-packages)\n"
     ]
    },
    {
     "name": "stdout",
     "output_type": "stream",
     "text": [
      "Found existing installation: SQLAlchemy 2.0.17\n",
      "Uninstalling SQLAlchemy-2.0.17:\n",
      "  Successfully uninstalled SQLAlchemy-2.0.17\n",
      "Collecting sqlalchemy==1.3.24\n",
      "  Using cached SQLAlchemy-1.3.24-cp39-cp39-win_amd64.whl (1.2 MB)\n",
      "Installing collected packages: sqlalchemy\n",
      "Successfully installed sqlalchemy-1.3.24\n"
     ]
    },
    {
     "name": "stderr",
     "output_type": "stream",
     "text": [
      "WARNING: Ignoring invalid distribution - (c:\\users\\eedc\\anaconda\\lib\\site-packages)\n",
      "WARNING: Ignoring invalid distribution - (c:\\users\\eedc\\anaconda\\lib\\site-packages)\n",
      "WARNING: Ignoring invalid distribution - (c:\\users\\eedc\\anaconda\\lib\\site-packages)\n",
      "WARNING: Ignoring invalid distribution - (c:\\users\\eedc\\anaconda\\lib\\site-packages)\n",
      "WARNING: Ignoring invalid distribution - (c:\\users\\eedc\\anaconda\\lib\\site-packages)\n",
      "WARNING: Ignoring invalid distribution - (c:\\users\\eedc\\anaconda\\lib\\site-packages)\n",
      "WARNING: Ignoring invalid distribution - (c:\\users\\eedc\\anaconda\\lib\\site-packages)\n",
      "WARNING: Ignoring invalid distribution - (c:\\users\\eedc\\anaconda\\lib\\site-packages)\n",
      "WARNING: Ignoring invalid distribution - (c:\\users\\eedc\\anaconda\\lib\\site-packages)\n"
     ]
    }
   ],
   "source": [
    "!pip install --force-reinstall ibm_db==3.1.0 ibm_db_sa==0.3.3\n",
    "!pip uninstall sqlalchemy==1.4 -y && pip install sqlalchemy==1.3.24\n",
    "#!pip install of ibm_db_sa"
   ]
  },
  {
   "cell_type": "code",
   "execution_count": 2,
   "id": "2017a759",
   "metadata": {},
   "outputs": [],
   "source": [
    "import ibm_db\n",
    "import ibm_db_sa\n",
    "import sqlalchemy\n",
    "from sqlalchemy import *\n",
    "%load_ext sql\n",
    "%reload_ext sql"
   ]
  },
  {
   "cell_type": "code",
   "execution_count": 3,
   "id": "cd05929e",
   "metadata": {},
   "outputs": [],
   "source": [
    "# Remember the connection string is of the format:\n",
    "# %sql ibm_db_sa://my-username:my-password@my-hostname:my-port/my-db-name?security=SSL\n",
    "# Enter the connection string for your Db2 on Cloud database instance below\n",
    "\n",
    "%sql ibm_db_sa://lfp94968:zU0Wh8VKm32LrH3p@3883e7e4-18f5-4afe-be8c-fa31c41761d2.bs2io90l08kqb1od8lcg.databases.appdomain.cloud:31498/bludb?security=SSL"
   ]
  },
  {
   "cell_type": "markdown",
   "id": "6af46f60",
   "metadata": {},
   "source": [
    "## Question 1\n",
    "### Write and execute a SQL query to list the school names, community names and average attendance for communities with a hardship index of 98."
   ]
  },
  {
   "cell_type": "code",
   "execution_count": 4,
   "id": "87229df2",
   "metadata": {},
   "outputs": [
    {
     "name": "stdout",
     "output_type": "stream",
     "text": [
      " * ibm_db_sa://lfp94968:***@3883e7e4-18f5-4afe-be8c-fa31c41761d2.bs2io90l08kqb1od8lcg.databases.appdomain.cloud:31498/bludb\n",
      "Done.\n"
     ]
    },
    {
     "data": {
      "text/html": [
       "<table>\n",
       "    <tr>\n",
       "        <th>name_of_school</th>\n",
       "        <th>average_student_attendance</th>\n",
       "        <th>community_area_name</th>\n",
       "        <th>hardship_index</th>\n",
       "    </tr>\n",
       "    <tr>\n",
       "        <td>George Washington Carver Military Academy High School</td>\n",
       "        <td>91.60%</td>\n",
       "        <td>Riverdale</td>\n",
       "        <td>98</td>\n",
       "    </tr>\n",
       "    <tr>\n",
       "        <td>George Washington Carver Primary School</td>\n",
       "        <td>90.90%</td>\n",
       "        <td>Riverdale</td>\n",
       "        <td>98</td>\n",
       "    </tr>\n",
       "    <tr>\n",
       "        <td>Ira F Aldridge Elementary School</td>\n",
       "        <td>92.90%</td>\n",
       "        <td>Riverdale</td>\n",
       "        <td>98</td>\n",
       "    </tr>\n",
       "    <tr>\n",
       "        <td>William E B Dubois Elementary School</td>\n",
       "        <td>93.30%</td>\n",
       "        <td>Riverdale</td>\n",
       "        <td>98</td>\n",
       "    </tr>\n",
       "</table>"
      ],
      "text/plain": [
       "[('George Washington Carver Military Academy High School', '91.60%', 'Riverdale', 98),\n",
       " ('George Washington Carver Primary School', '90.90%', 'Riverdale', 98),\n",
       " ('Ira F Aldridge Elementary School', '92.90%', 'Riverdale', 98),\n",
       " ('William E B Dubois Elementary School', '93.30%', 'Riverdale', 98)]"
      ]
     },
     "execution_count": 4,
     "metadata": {},
     "output_type": "execute_result"
    }
   ],
   "source": [
    "%%sql\n",
    "select cp.name_of_school,cp.average_student_attendance,cd.community_area_name,cd.hardship_index \n",
    "from CHICAGO_PUBLIC_SCHOOLS cp\n",
    "left outer join CENSUS_DATA cd\n",
    "on cp.community_area_number=cd.community_area_number\n",
    "where cd.hardship_index=98"
   ]
  },
  {
   "cell_type": "markdown",
   "id": "ba569d17",
   "metadata": {},
   "source": [
    "## Question 2\n",
    "### Write and execute a SQL query to list all crimes that took place at a school. Include case number, crime type and community name."
   ]
  },
  {
   "cell_type": "code",
   "execution_count": 7,
   "id": "389ea0db",
   "metadata": {},
   "outputs": [
    {
     "name": "stdout",
     "output_type": "stream",
     "text": [
      " * ibm_db_sa://lfp94968:***@3883e7e4-18f5-4afe-be8c-fa31c41761d2.bs2io90l08kqb1od8lcg.databases.appdomain.cloud:31498/bludb\n",
      "Done.\n"
     ]
    },
    {
     "data": {
      "text/html": [
       "<table>\n",
       "    <tr>\n",
       "        <th>case_number</th>\n",
       "        <th>primary_type</th>\n",
       "        <th>community_area_name</th>\n",
       "        <th>location_description</th>\n",
       "    </tr>\n",
       "    <tr>\n",
       "        <td>HK577020</td>\n",
       "        <td>NARCOTICS</td>\n",
       "        <td>Rogers Park</td>\n",
       "        <td>SCHOOL, PUBLIC, GROUNDS</td>\n",
       "    </tr>\n",
       "    <tr>\n",
       "        <td>HL725506</td>\n",
       "        <td>BATTERY</td>\n",
       "        <td>Lincoln Square</td>\n",
       "        <td>SCHOOL, PUBLIC, BUILDING</td>\n",
       "    </tr>\n",
       "    <tr>\n",
       "        <td>HH639427</td>\n",
       "        <td>BATTERY</td>\n",
       "        <td>Austin</td>\n",
       "        <td>SCHOOL, PUBLIC, BUILDING</td>\n",
       "    </tr>\n",
       "    <tr>\n",
       "        <td>HS200939</td>\n",
       "        <td>CRIMINAL DAMAGE</td>\n",
       "        <td>Austin</td>\n",
       "        <td>SCHOOL, PUBLIC, GROUNDS</td>\n",
       "    </tr>\n",
       "    <tr>\n",
       "        <td>HT315369</td>\n",
       "        <td>ASSAULT</td>\n",
       "        <td>East Garfield Park</td>\n",
       "        <td>SCHOOL, PUBLIC, GROUNDS</td>\n",
       "    </tr>\n",
       "    <tr>\n",
       "        <td>HP716225</td>\n",
       "        <td>BATTERY</td>\n",
       "        <td>Douglas</td>\n",
       "        <td>SCHOOL, PUBLIC, BUILDING</td>\n",
       "    </tr>\n",
       "    <tr>\n",
       "        <td>HL353697</td>\n",
       "        <td>BATTERY</td>\n",
       "        <td>South Shore</td>\n",
       "        <td>SCHOOL, PUBLIC, GROUNDS</td>\n",
       "    </tr>\n",
       "    <tr>\n",
       "        <td>HS305355</td>\n",
       "        <td>NARCOTICS</td>\n",
       "        <td>Brighton Park</td>\n",
       "        <td>SCHOOL, PUBLIC, BUILDING</td>\n",
       "    </tr>\n",
       "    <tr>\n",
       "        <td>JA460432</td>\n",
       "        <td>BATTERY</td>\n",
       "        <td>Ashburn</td>\n",
       "        <td>SCHOOL, PUBLIC, GROUNDS</td>\n",
       "    </tr>\n",
       "    <tr>\n",
       "        <td>HR585012</td>\n",
       "        <td>CRIMINAL TRESPASS</td>\n",
       "        <td>Ashburn</td>\n",
       "        <td>SCHOOL, PUBLIC, GROUNDS</td>\n",
       "    </tr>\n",
       "    <tr>\n",
       "        <td>HH292682</td>\n",
       "        <td>PUBLIC PEACE VIOLATION</td>\n",
       "        <td>None</td>\n",
       "        <td>SCHOOL, PRIVATE, BUILDING</td>\n",
       "    </tr>\n",
       "    <tr>\n",
       "        <td>G635735</td>\n",
       "        <td>PUBLIC PEACE VIOLATION</td>\n",
       "        <td>None</td>\n",
       "        <td>SCHOOL, PUBLIC, BUILDING</td>\n",
       "    </tr>\n",
       "</table>"
      ],
      "text/plain": [
       "[('HK577020', 'NARCOTICS', 'Rogers Park', 'SCHOOL, PUBLIC, GROUNDS'),\n",
       " ('HL725506', 'BATTERY', 'Lincoln Square', 'SCHOOL, PUBLIC, BUILDING'),\n",
       " ('HH639427', 'BATTERY', 'Austin', 'SCHOOL, PUBLIC, BUILDING'),\n",
       " ('HS200939', 'CRIMINAL DAMAGE', 'Austin', 'SCHOOL, PUBLIC, GROUNDS'),\n",
       " ('HT315369', 'ASSAULT', 'East Garfield Park', 'SCHOOL, PUBLIC, GROUNDS'),\n",
       " ('HP716225', 'BATTERY', 'Douglas', 'SCHOOL, PUBLIC, BUILDING'),\n",
       " ('HL353697', 'BATTERY', 'South Shore', 'SCHOOL, PUBLIC, GROUNDS'),\n",
       " ('HS305355', 'NARCOTICS', 'Brighton Park', 'SCHOOL, PUBLIC, BUILDING'),\n",
       " ('JA460432', 'BATTERY', 'Ashburn', 'SCHOOL, PUBLIC, GROUNDS'),\n",
       " ('HR585012', 'CRIMINAL TRESPASS', 'Ashburn', 'SCHOOL, PUBLIC, GROUNDS'),\n",
       " ('HH292682', 'PUBLIC PEACE VIOLATION', None, 'SCHOOL, PRIVATE, BUILDING'),\n",
       " ('G635735', 'PUBLIC PEACE VIOLATION', None, 'SCHOOL, PUBLIC, BUILDING')]"
      ]
     },
     "execution_count": 7,
     "metadata": {},
     "output_type": "execute_result"
    }
   ],
   "source": [
    "%%sql\n",
    "select ccd.case_number,ccd.primary_type,cd.community_area_name,ccd.location_description\n",
    "from CHICAGO_CRIME_DATA ccd\n",
    "left outer join CENSUS_DATA cd\n",
    "on ccd.community_area_number=cd.community_area_number\n",
    "where ccd.location_description like '%SCHOOL%'"
   ]
  },
  {
   "cell_type": "code",
   "execution_count": null,
   "id": "8c42622f",
   "metadata": {},
   "outputs": [],
   "source": []
  }
 ],
 "metadata": {
  "kernelspec": {
   "display_name": "Python 3 (ipykernel)",
   "language": "python",
   "name": "python3"
  },
  "language_info": {
   "codemirror_mode": {
    "name": "ipython",
    "version": 3
   },
   "file_extension": ".py",
   "mimetype": "text/x-python",
   "name": "python",
   "nbconvert_exporter": "python",
   "pygments_lexer": "ipython3",
   "version": "3.9.12"
  }
 },
 "nbformat": 4,
 "nbformat_minor": 5
}
