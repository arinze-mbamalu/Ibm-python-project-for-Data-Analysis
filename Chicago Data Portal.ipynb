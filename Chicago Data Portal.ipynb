{
 "cells": [
  {
   "cell_type": "code",
   "execution_count": 1,
   "id": "0bff74c2",
   "metadata": {},
   "outputs": [
    {
     "name": "stdout",
     "output_type": "stream",
     "text": [
      "Collecting ibm_db==3.1.0\n",
      "  Using cached ibm_db-3.1.0-py3-none-any.whl\n",
      "Collecting ibm_db_sa==0.3.3\n",
      "  Using cached ibm_db_sa-0.3.3-py3-none-any.whl\n",
      "Collecting sqlalchemy>=0.7.3\n",
      "  Using cached SQLAlchemy-2.0.16-cp39-cp39-win_amd64.whl (2.0 MB)\n",
      "Collecting typing-extensions>=4.2.0\n",
      "  Using cached typing_extensions-4.6.3-py3-none-any.whl (31 kB)\n",
      "Collecting greenlet!=0.4.17\n",
      "  Using cached greenlet-2.0.2-cp39-cp39-win_amd64.whl (192 kB)\n",
      "Installing collected packages: typing-extensions, greenlet, sqlalchemy, ibm-db-sa, ibm-db\n",
      "  Attempting uninstall: typing-extensions\n",
      "    Found existing installation: typing-extensions 4.6.3\n",
      "    Uninstalling typing-extensions-4.6.3:\n",
      "      Successfully uninstalled typing-extensions-4.6.3\n",
      "  Attempting uninstall: greenlet\n",
      "    Found existing installation: greenlet 2.0.2\n",
      "    Uninstalling greenlet-2.0.2:\n",
      "      Successfully uninstalled greenlet-2.0.2\n",
      "  Attempting uninstall: sqlalchemy\n",
      "    Found existing installation: SQLAlchemy 1.3.9\n",
      "    Uninstalling SQLAlchemy-1.3.9:\n",
      "      Successfully uninstalled SQLAlchemy-1.3.9\n",
      "  Attempting uninstall: ibm-db-sa\n",
      "    Found existing installation: ibm-db-sa 0.4.0\n",
      "    Uninstalling ibm-db-sa-0.4.0:\n",
      "      Successfully uninstalled ibm-db-sa-0.4.0\n",
      "  Attempting uninstall: ibm-db\n",
      "    Found existing installation: ibm-db 3.1.4\n",
      "    Uninstalling ibm-db-3.1.4:\n",
      "      Successfully uninstalled ibm-db-3.1.4\n",
      "Successfully installed greenlet-2.0.2 ibm-db-3.1.0 ibm-db-sa-0.3.3 sqlalchemy-2.0.16 typing-extensions-4.6.3\n"
     ]
    },
    {
     "name": "stderr",
     "output_type": "stream",
     "text": [
      "WARNING: Ignoring invalid distribution - (c:\\users\\eedc\\anaconda\\lib\\site-packages)\n",
      "WARNING: Ignoring invalid distribution - (c:\\users\\eedc\\anaconda\\lib\\site-packages)\n",
      "WARNING: Ignoring invalid distribution - (c:\\users\\eedc\\anaconda\\lib\\site-packages)\n",
      "    WARNING: Ignoring invalid distribution - (c:\\users\\eedc\\anaconda\\lib\\site-packages)\n",
      "    WARNING: Ignoring invalid distribution - (c:\\users\\eedc\\anaconda\\lib\\site-packages)\n",
      "    WARNING: Ignoring invalid distribution - (c:\\users\\eedc\\anaconda\\lib\\site-packages)\n",
      "    WARNING: Ignoring invalid distribution - (c:\\users\\eedc\\anaconda\\lib\\site-packages)\n",
      "    WARNING: Ignoring invalid distribution - (c:\\users\\eedc\\anaconda\\lib\\site-packages)\n",
      "WARNING: Ignoring invalid distribution - (c:\\users\\eedc\\anaconda\\lib\\site-packages)\n",
      "WARNING: Ignoring invalid distribution - (c:\\users\\eedc\\anaconda\\lib\\site-packages)\n",
      "WARNING: Ignoring invalid distribution - (c:\\users\\eedc\\anaconda\\lib\\site-packages)\n",
      "WARNING: Ignoring invalid distribution - (c:\\users\\eedc\\anaconda\\lib\\site-packages)\n",
      "WARNING: Ignoring invalid distribution - (c:\\users\\eedc\\anaconda\\lib\\site-packages)\n",
      "WARNING: Ignoring invalid distribution - (c:\\users\\eedc\\anaconda\\lib\\site-packages)\n",
      "WARNING: Ignoring invalid distribution - (c:\\users\\eedc\\anaconda\\lib\\site-packages)\n",
      "WARNING: Ignoring invalid distribution - (c:\\users\\eedc\\anaconda\\lib\\site-packages)\n"
     ]
    },
    {
     "name": "stdout",
     "output_type": "stream",
     "text": [
      "Found existing installation: SQLAlchemy 2.0.16\n",
      "Uninstalling SQLAlchemy-2.0.16:\n",
      "  Successfully uninstalled SQLAlchemy-2.0.16\n",
      "Collecting sqlalchemy==1.3.24\n"
     ]
    },
    {
     "name": "stderr",
     "output_type": "stream",
     "text": [
      "WARNING: Ignoring invalid distribution - (c:\\users\\eedc\\anaconda\\lib\\site-packages)\n",
      "WARNING: Ignoring invalid distribution - (c:\\users\\eedc\\anaconda\\lib\\site-packages)\n",
      "WARNING: Ignoring invalid distribution - (c:\\users\\eedc\\anaconda\\lib\\site-packages)\n",
      "WARNING: Ignoring invalid distribution - (c:\\users\\eedc\\anaconda\\lib\\site-packages)\n",
      "WARNING: Ignoring invalid distribution - (c:\\users\\eedc\\anaconda\\lib\\site-packages)\n",
      "WARNING: Ignoring invalid distribution - (c:\\users\\eedc\\anaconda\\lib\\site-packages)\n",
      "ERROR: pip's dependency resolver does not currently take into account all the packages that are installed. This behaviour is the source of the following dependency conflicts.\n",
      "ipython-sql 0.5.0 requires sqlalchemy>=2.0, but you have sqlalchemy 1.3.24 which is incompatible.\n",
      "WARNING: Ignoring invalid distribution - (c:\\users\\eedc\\anaconda\\lib\\site-packages)\n",
      "WARNING: Ignoring invalid distribution - (c:\\users\\eedc\\anaconda\\lib\\site-packages)\n",
      "WARNING: Ignoring invalid distribution - (c:\\users\\eedc\\anaconda\\lib\\site-packages)\n"
     ]
    },
    {
     "name": "stdout",
     "output_type": "stream",
     "text": [
      "  Using cached SQLAlchemy-1.3.24-cp39-cp39-win_amd64.whl (1.2 MB)\n",
      "Installing collected packages: sqlalchemy\n",
      "Successfully installed sqlalchemy-1.3.24\n",
      "Requirement already satisfied: ipython-sql in c:\\users\\eedc\\anaconda\\lib\\site-packages (0.5.0)\n",
      "Collecting ipython-sql\n",
      "  Downloading ipython_sql-0.4.1-py3-none-any.whl (21 kB)\n",
      "Collecting prettytable<1\n",
      "  Using cached prettytable-0.7.2-py3-none-any.whl\n",
      "Requirement already satisfied: ipython-genutils>=0.1.0 in c:\\users\\eedc\\anaconda\\lib\\site-packages (from ipython-sql) (0.2.0)\n",
      "Requirement already satisfied: ipython>=1.0 in c:\\users\\eedc\\anaconda\\lib\\site-packages (from ipython-sql) (8.2.0)\n",
      "Requirement already satisfied: sqlparse in c:\\users\\eedc\\anaconda\\lib\\site-packages (from ipython-sql) (0.4.4)\n",
      "Requirement already satisfied: sqlalchemy>=0.6.7 in c:\\users\\eedc\\anaconda\\lib\\site-packages (from ipython-sql) (1.3.24)\n",
      "Requirement already satisfied: six in c:\\users\\eedc\\anaconda\\lib\\site-packages (from ipython-sql) (1.16.0)\n",
      "Requirement already satisfied: decorator in c:\\users\\eedc\\anaconda\\lib\\site-packages (from ipython>=1.0->ipython-sql) (5.1.1)\n",
      "Requirement already satisfied: stack-data in c:\\users\\eedc\\anaconda\\lib\\site-packages (from ipython>=1.0->ipython-sql) (0.2.0)\n",
      "Requirement already satisfied: prompt-toolkit!=3.0.0,!=3.0.1,<3.1.0,>=2.0.0 in c:\\users\\eedc\\anaconda\\lib\\site-packages (from ipython>=1.0->ipython-sql) (3.0.20)\n",
      "Requirement already satisfied: jedi>=0.16 in c:\\users\\eedc\\anaconda\\lib\\site-packages (from ipython>=1.0->ipython-sql) (0.18.1)\n",
      "Requirement already satisfied: traitlets>=5 in c:\\users\\eedc\\anaconda\\lib\\site-packages (from ipython>=1.0->ipython-sql) (5.1.1)\n",
      "Requirement already satisfied: setuptools>=18.5 in c:\\users\\eedc\\anaconda\\lib\\site-packages (from ipython>=1.0->ipython-sql) (61.2.0)\n",
      "Requirement already satisfied: matplotlib-inline in c:\\users\\eedc\\anaconda\\lib\\site-packages (from ipython>=1.0->ipython-sql) (0.1.2)\n",
      "Requirement already satisfied: colorama in c:\\users\\eedc\\anaconda\\lib\\site-packages (from ipython>=1.0->ipython-sql) (0.4.4)\n",
      "Requirement already satisfied: pygments>=2.4.0 in c:\\users\\eedc\\anaconda\\lib\\site-packages (from ipython>=1.0->ipython-sql) (2.11.2)\n",
      "Requirement already satisfied: pickleshare in c:\\users\\eedc\\anaconda\\lib\\site-packages (from ipython>=1.0->ipython-sql) (0.7.5)\n",
      "Requirement already satisfied: backcall in c:\\users\\eedc\\anaconda\\lib\\site-packages (from ipython>=1.0->ipython-sql) (0.2.0)\n",
      "Requirement already satisfied: parso<0.9.0,>=0.8.0 in c:\\users\\eedc\\anaconda\\lib\\site-packages (from jedi>=0.16->ipython>=1.0->ipython-sql) (0.8.3)\n",
      "Requirement already satisfied: wcwidth in c:\\users\\eedc\\anaconda\\lib\\site-packages (from prompt-toolkit!=3.0.0,!=3.0.1,<3.1.0,>=2.0.0->ipython>=1.0->ipython-sql) (0.2.5)\n",
      "Requirement already satisfied: executing in c:\\users\\eedc\\anaconda\\lib\\site-packages (from stack-data->ipython>=1.0->ipython-sql) (0.8.3)\n",
      "Requirement already satisfied: pure-eval in c:\\users\\eedc\\anaconda\\lib\\site-packages (from stack-data->ipython>=1.0->ipython-sql) (0.2.2)\n",
      "Requirement already satisfied: asttokens in c:\\users\\eedc\\anaconda\\lib\\site-packages (from stack-data->ipython>=1.0->ipython-sql) (2.0.5)\n",
      "Installing collected packages: prettytable, ipython-sql\n",
      "  Attempting uninstall: prettytable\n",
      "    Found existing installation: prettytable 3.8.0\n",
      "    Uninstalling prettytable-3.8.0:\n",
      "      Successfully uninstalled prettytable-3.8.0\n"
     ]
    },
    {
     "name": "stderr",
     "output_type": "stream",
     "text": [
      "WARNING: Ignoring invalid distribution - (c:\\users\\eedc\\anaconda\\lib\\site-packages)\n",
      "WARNING: Ignoring invalid distribution - (c:\\users\\eedc\\anaconda\\lib\\site-packages)\n",
      "WARNING: Retrying (Retry(total=4, connect=None, read=None, redirect=None, status=None)) after connection broken by 'ConnectTimeoutError(<pip._vendor.urllib3.connection.HTTPSConnection object at 0x000002438666B5B0>, 'Connection to pypi.org timed out. (connect timeout=15)')': /simple/sqlalchemy/\n",
      "WARNING: Retrying (Retry(total=3, connect=None, read=None, redirect=None, status=None)) after connection broken by 'NewConnectionError('<pip._vendor.urllib3.connection.HTTPSConnection object at 0x000002438666BA90>: Failed to establish a new connection: [WinError 10065] A socket operation was attempted to an unreachable host')': /simple/sqlalchemy/\n",
      "WARNING: Retrying (Retry(total=2, connect=None, read=None, redirect=None, status=None)) after connection broken by 'NewConnectionError('<pip._vendor.urllib3.connection.HTTPSConnection object at 0x000002438666B6A0>: Failed to establish a new connection: [Errno 11001] getaddrinfo failed')': /simple/sqlalchemy/\n",
      "WARNING: Retrying (Retry(total=1, connect=None, read=None, redirect=None, status=None)) after connection broken by 'NewConnectionError('<pip._vendor.urllib3.connection.HTTPSConnection object at 0x000002438666B670>: Failed to establish a new connection: [Errno 11001] getaddrinfo failed')': /simple/sqlalchemy/\n",
      "WARNING: Retrying (Retry(total=0, connect=None, read=None, redirect=None, status=None)) after connection broken by 'NewConnectionError('<pip._vendor.urllib3.connection.HTTPSConnection object at 0x00000243866797C0>: Failed to establish a new connection: [Errno 11001] getaddrinfo failed')': /simple/sqlalchemy/\n",
      "WARNING: Retrying (Retry(total=4, connect=None, read=None, redirect=None, status=None)) after connection broken by 'NewConnectionError('<pip._vendor.urllib3.connection.HTTPSConnection object at 0x00000243866795E0>: Failed to establish a new connection: [Errno 11001] getaddrinfo failed')': /simple/ipython-sql/\n",
      "WARNING: Retrying (Retry(total=3, connect=None, read=None, redirect=None, status=None)) after connection broken by 'NewConnectionError('<pip._vendor.urllib3.connection.HTTPSConnection object at 0x000002438667F130>: Failed to establish a new connection: [Errno 11001] getaddrinfo failed')': /simple/ipython-sql/\n",
      "WARNING: Retrying (Retry(total=2, connect=None, read=None, redirect=None, status=None)) after connection broken by 'NewConnectionError('<pip._vendor.urllib3.connection.HTTPSConnection object at 0x000002438667F6A0>: Failed to establish a new connection: [Errno 11001] getaddrinfo failed')': /simple/ipython-sql/\n",
      "WARNING: Ignoring invalid distribution - (c:\\users\\eedc\\anaconda\\lib\\site-packages)\n",
      "    WARNING: Ignoring invalid distribution - (c:\\users\\eedc\\anaconda\\lib\\site-packages)\n",
      "    WARNING: Ignoring invalid distribution - (c:\\users\\eedc\\anaconda\\lib\\site-packages)\n",
      "WARNING: Ignoring invalid distribution - (c:\\users\\eedc\\anaconda\\lib\\site-packages)\n",
      "WARNING: Ignoring invalid distribution - (c:\\users\\eedc\\anaconda\\lib\\site-packages)\n",
      "WARNING: Ignoring invalid distribution - (c:\\users\\eedc\\anaconda\\lib\\site-packages)\n",
      "WARNING: Ignoring invalid distribution - (c:\\users\\eedc\\anaconda\\lib\\site-packages)\n",
      "WARNING: Ignoring invalid distribution - (c:\\users\\eedc\\anaconda\\lib\\site-packages)\n"
     ]
    },
    {
     "name": "stdout",
     "output_type": "stream",
     "text": [
      "  Attempting uninstall: ipython-sql\n",
      "    Found existing installation: ipython-sql 0.5.0\n",
      "    Uninstalling ipython-sql-0.5.0:\n",
      "      Successfully uninstalled ipython-sql-0.5.0\n",
      "Successfully installed ipython-sql-0.4.1 prettytable-0.7.2\n"
     ]
    }
   ],
   "source": [
    "!pip install --force-reinstall ibm_db==3.1.0 ibm_db_sa==0.3.3\n",
    "!pip uninstall sqlalchemy==1.4 -y && pip install sqlalchemy==1.3.24\n",
    "!pip install ipython-sql"
   ]
  },
  {
   "cell_type": "code",
   "execution_count": 2,
   "id": "135d89c8",
   "metadata": {},
   "outputs": [],
   "source": [
    "import ibm_db"
   ]
  },
  {
   "cell_type": "code",
   "execution_count": 3,
   "id": "54209fba",
   "metadata": {},
   "outputs": [],
   "source": [
    "#Db2 Service Credentials\n",
    "dsn_driver = \"{IBM DB2 ODBC DRIVER}\"\n",
    "dsn_database = \"bludb\"          \n",
    "dsn_hostname = \"3883e7e4-18f5-4afe-be8c-fa31c41761d2.bs2io90l08kqb1od8lcg.databases.appdomain.cloud\"           \n",
    "dsn_port = \"31498\"                  \n",
    "dsn_protocol = \"TCPIP\"        \n",
    "dsn_uid = \"lfp94968\"                \n",
    "dsn_pwd = \"zU0Wh8VKm32LrH3p\"                \n",
    "dsn_security = \"SSL\"              "
   ]
  },
  {
   "cell_type": "code",
   "execution_count": 4,
   "id": "7c526758",
   "metadata": {},
   "outputs": [
    {
     "name": "stdout",
     "output_type": "stream",
     "text": [
      "Connected to database:  bludb as user:  lfp94968 on host:  3883e7e4-18f5-4afe-be8c-fa31c41761d2.bs2io90l08kqb1od8lcg.databases.appdomain.cloud\n"
     ]
    }
   ],
   "source": [
    "\n",
    "#Create database connection\n",
    "dsn = (\n",
    "    \"DRIVER={0};\"\n",
    "    \"DATABASE={1};\"\n",
    "    \"HOSTNAME={2};\"\n",
    "    \"PORT={3};\"\n",
    "    \"PROTOCOL={4};\"\n",
    "    \"UID={5};\"\n",
    "    \"PWD={6};\"\n",
    "    \"SECURITY={7};\").format(dsn_driver, dsn_database, dsn_hostname, dsn_port, dsn_protocol, dsn_uid, dsn_pwd,dsn_security)\n",
    "\n",
    "try:\n",
    "    conn = ibm_db.connect(dsn, \"\", \"\")\n",
    "    print (\"Connected to database: \", dsn_database, \"as user: \", dsn_uid, \"on host: \", dsn_hostname)\n",
    "\n",
    "except:\n",
    "    print (\"Unable to connect: \", ibm_db.conn_errormsg() )"
   ]
  },
  {
   "cell_type": "markdown",
   "id": "f1215e0f",
   "metadata": {},
   "source": [
    "\n",
    "## Problem 1: Find the total number of crimes recorded in the CRIME table."
   ]
  },
  {
   "cell_type": "code",
   "execution_count": 5,
   "id": "34546033",
   "metadata": {},
   "outputs": [
    {
     "data": {
      "text/plain": [
       "{'TOTAL_NUMBER_OF_CRIMES_RECORDED': 533}"
      ]
     },
     "execution_count": 5,
     "metadata": {},
     "output_type": "execute_result"
    }
   ],
   "source": [
    "#Construct the query that retrieves all rows from the Chicago Crime data table\n",
    "selectQuery = \"select COUNT(*) AS TOTAL_NUMBER_OF_CRIMES_RECORDED from CHICAGO_CRIME_DATA\"\n",
    "\n",
    "#Execute the statement\n",
    "selectStmt = ibm_db.exec_immediate(conn, selectQuery)\n",
    "\n",
    "ibm_db.fetch_assoc(selectStmt)"
   ]
  },
  {
   "cell_type": "markdown",
   "id": "4acb5186",
   "metadata": {},
   "source": [
    "## Problem 2: List community areas with per capita income less than 11000."
   ]
  },
  {
   "cell_type": "code",
   "execution_count": 6,
   "id": "8d7b7cc8",
   "metadata": {},
   "outputs": [
    {
     "name": "stdout",
     "output_type": "stream",
     "text": [
      "{'COMMUNITY_AREA_NAME': 'West Garfield Park', 'PER_CAPITA_INCOME': 10934}\n",
      "{'COMMUNITY_AREA_NAME': 'South Lawndale', 'PER_CAPITA_INCOME': 10402}\n",
      "{'COMMUNITY_AREA_NAME': 'Fuller Park', 'PER_CAPITA_INCOME': 10432}\n",
      "{'COMMUNITY_AREA_NAME': 'Riverdale', 'PER_CAPITA_INCOME': 8201}\n"
     ]
    }
   ],
   "source": [
    "#Construct the query that lists all rows with per capita income less than 11000\n",
    "selectQuery = \"select COMMUNITY_AREA_NAME,PER_CAPITA_INCOME from CENSUS_DATA WHERE PER_CAPITA_INCOME < 11000 \"\n",
    "\n",
    "#Execute the statement\n",
    "selectStmt = ibm_db.exec_immediate(conn, selectQuery)\n",
    "\n",
    "result_dict = ibm_db.fetch_assoc(selectStmt)\n",
    "while result_dict is not False:\n",
    "    print(result_dict)\n",
    "    result_dict = ibm_db.fetch_assoc(selectStmt)"
   ]
  },
  {
   "cell_type": "markdown",
   "id": "cdce5ca4",
   "metadata": {},
   "source": [
    "## Problem 3: List all case numbers for crimes involving minors?"
   ]
  },
  {
   "cell_type": "code",
   "execution_count": 7,
   "id": "e348082d",
   "metadata": {},
   "outputs": [
    {
     "name": "stdout",
     "output_type": "stream",
     "text": [
      "{'CASE_NUMBER': 'HL266884', 'DESCRIPTION': 'SELL/GIVE/DEL LIQUOR TO MINOR'}\n",
      "{'CASE_NUMBER': 'HK238408', 'DESCRIPTION': 'ILLEGAL CONSUMPTION BY MINOR'}\n"
     ]
    }
   ],
   "source": [
    "#Construct the query that lists all the case numbers involving minors from the Chicago Crime data table\n",
    "selectQuery = \"select CASE_NUMBER,DESCRIPTION from CHICAGO_CRIME_DATA WHERE DESCRIPTION LIKE '%MINOR%'\"\n",
    "\n",
    "#Execute the statement\n",
    "selectStmt = ibm_db.exec_immediate(conn, selectQuery)\n",
    "\n",
    "result_dict = ibm_db.fetch_assoc(selectStmt)\n",
    "while result_dict is not False:\n",
    "    print(result_dict)\n",
    "    result_dict = ibm_db.fetch_assoc(selectStmt)"
   ]
  },
  {
   "cell_type": "markdown",
   "id": "91d6fb85",
   "metadata": {},
   "source": [
    "## Problem 4: List all kidnapping crimes involving a child?(children are not considered minors for the purposes of crime analysis)"
   ]
  },
  {
   "cell_type": "code",
   "execution_count": 8,
   "id": "5ca2b817",
   "metadata": {},
   "outputs": [
    {
     "name": "stdout",
     "output_type": "stream",
     "text": [
      "{'PRIMARY_TYPE': 'KIDNAPPING', 'DESCRIPTION': 'CHILD ABDUCTION/STRANGER'}\n"
     ]
    }
   ],
   "source": [
    "#Construct the query that lists all the kidnapping involving a child from the Chicago Crime data table\n",
    "selectQuery = \"\"\"select PRIMARY_TYPE,DESCRIPTION from CHICAGO_CRIME_DATA \n",
    "WHERE PRIMARY_TYPE='KIDNAPPING' AND DESCRIPTION LIKE '%CHILD%'\"\"\"\n",
    "\n",
    "#Execute the statement\n",
    "selectStmt = ibm_db.exec_immediate(conn, selectQuery)\n",
    "\n",
    "result_dict = ibm_db.fetch_assoc(selectStmt)\n",
    "while result_dict is not False:\n",
    "    print(result_dict)\n",
    "    result_dict = ibm_db.fetch_assoc(selectStmt)"
   ]
  },
  {
   "cell_type": "markdown",
   "id": "cf2c3378",
   "metadata": {},
   "source": [
    "## Problem 5: What kind of crimes were recorded at schools?"
   ]
  },
  {
   "cell_type": "code",
   "execution_count": 9,
   "id": "2a7cc881",
   "metadata": {},
   "outputs": [
    {
     "name": "stdout",
     "output_type": "stream",
     "text": [
      "{'PRIMARY_TYPE': 'ASSAULT'}\n",
      "{'PRIMARY_TYPE': 'BATTERY'}\n",
      "{'PRIMARY_TYPE': 'CRIMINAL DAMAGE'}\n",
      "{'PRIMARY_TYPE': 'CRIMINAL TRESPASS'}\n",
      "{'PRIMARY_TYPE': 'NARCOTICS'}\n",
      "{'PRIMARY_TYPE': 'PUBLIC PEACE VIOLATION'}\n"
     ]
    }
   ],
   "source": [
    "#Construct the query that lists the kind of crimes recorded at schools from the Chicago Crime data table\n",
    "selectQuery = \"select DISTINCT PRIMARY_TYPE from CHICAGO_CRIME_DATA WHERE LOCATION_DESCRIPTION LIKE '%SCHOOL%'\"\n",
    "\n",
    "#Execute the statement\n",
    "selectStmt = ibm_db.exec_immediate(conn, selectQuery)\n",
    "\n",
    "result_dict = ibm_db.fetch_assoc(selectStmt)\n",
    "while result_dict is not False:\n",
    "    print(result_dict)\n",
    "    result_dict = ibm_db.fetch_assoc(selectStmt)"
   ]
  },
  {
   "cell_type": "markdown",
   "id": "485f4544",
   "metadata": {},
   "source": [
    "## Problem 6: List the average safety score for all types of schools."
   ]
  },
  {
   "cell_type": "code",
   "execution_count": 10,
   "id": "8f3b7214",
   "metadata": {},
   "outputs": [
    {
     "name": "stdout",
     "output_type": "stream",
     "text": [
      "{'ELEMENTARY__MIDDLE__OR_HIGH_SCHOOL': 'ES', 'AVERAGE_SAFETY_SCORE': 49}\n",
      "{'ELEMENTARY__MIDDLE__OR_HIGH_SCHOOL': 'HS', 'AVERAGE_SAFETY_SCORE': 49}\n",
      "{'ELEMENTARY__MIDDLE__OR_HIGH_SCHOOL': 'MS', 'AVERAGE_SAFETY_SCORE': 48}\n"
     ]
    }
   ],
   "source": [
    "#Construct the query that lists the average safety score for all types of schools from the Chicago public schools data table\n",
    "selectQuery = \"\"\"select ELEMENTARY__MIDDLE__OR_HIGH_SCHOOL,AVG(SAFETY_SCORE) AS AVERAGE_SAFETY_SCORE from CHICAGO_PUBLIC_SCHOOLS \n",
    "GROUP BY ELEMENTARY__MIDDLE__OR_HIGH_SCHOOL\"\"\"\n",
    "\n",
    "#Execute the statement\n",
    "selectStmt = ibm_db.exec_immediate(conn, selectQuery)\n",
    "\n",
    "result_dict = ibm_db.fetch_assoc(selectStmt)\n",
    "while result_dict is not False:\n",
    "    print(result_dict)\n",
    "    result_dict = ibm_db.fetch_assoc(selectStmt)"
   ]
  },
  {
   "cell_type": "markdown",
   "id": "255549be",
   "metadata": {},
   "source": [
    "## Problem 7: List 5 community areas with highest % of households below poverty line."
   ]
  },
  {
   "cell_type": "code",
   "execution_count": 11,
   "id": "70a8561d",
   "metadata": {},
   "outputs": [
    {
     "name": "stdout",
     "output_type": "stream",
     "text": [
      "{'COMMUNITY_AREA_NAME': 'Riverdale', 'PERCENT_HOUSEHOLDS_BELOW_POVERTY': '56.5'}\n",
      "{'COMMUNITY_AREA_NAME': 'Fuller Park', 'PERCENT_HOUSEHOLDS_BELOW_POVERTY': '51.2'}\n",
      "{'COMMUNITY_AREA_NAME': 'Englewood', 'PERCENT_HOUSEHOLDS_BELOW_POVERTY': '46.6'}\n",
      "{'COMMUNITY_AREA_NAME': 'North Lawndale', 'PERCENT_HOUSEHOLDS_BELOW_POVERTY': '43.1'}\n",
      "{'COMMUNITY_AREA_NAME': 'East Garfield Park', 'PERCENT_HOUSEHOLDS_BELOW_POVERTY': '42.4'}\n"
     ]
    }
   ],
   "source": [
    "#Construct the query that lists the community areas with highest % of households below poverty line from the census data table\n",
    "selectQuery = \"\"\"select COMMUNITY_AREA_NAME,PERCENT_HOUSEHOLDS_BELOW_POVERTY from CENSUS_DATA \n",
    "ORDER BY PERCENT_HOUSEHOLDS_BELOW_POVERTY DESC LIMIT 5\"\"\"\n",
    "\n",
    "#Execute the statement\n",
    "selectStmt = ibm_db.exec_immediate(conn, selectQuery)\n",
    "\n",
    "result_dict = ibm_db.fetch_assoc(selectStmt)\n",
    "while result_dict is not False:\n",
    "    print(result_dict)\n",
    "    result_dict = ibm_db.fetch_assoc(selectStmt)"
   ]
  },
  {
   "cell_type": "markdown",
   "id": "a457413f",
   "metadata": {},
   "source": [
    "## Problem 8: Which community area(number) is most crime prone?"
   ]
  },
  {
   "cell_type": "code",
   "execution_count": 12,
   "id": "6cda315f",
   "metadata": {},
   "outputs": [
    {
     "name": "stdout",
     "output_type": "stream",
     "text": [
      "{'COMMUNITY_AREA_NUMBER': 25, 'CRIME_COUNT': 43}\n"
     ]
    }
   ],
   "source": [
    "#Construct the query that shows community area with the most crime prone from the Chicago Crime data table\n",
    "selectQuery = \"\"\"select COMMUNITY_AREA_NUMBER,COUNT(*) AS CRIME_COUNT from CHICAGO_CRIME_DATA \n",
    "GROUP BY COMMUNITY_AREA_NUMBER ORDER BY CRIME_COUNT DESC LIMIT 1\"\"\"\n",
    "\n",
    "#Execute the statement\n",
    "selectStmt = ibm_db.exec_immediate(conn, selectQuery)\n",
    "\n",
    "result_dict = ibm_db.fetch_assoc(selectStmt)\n",
    "while result_dict is not False:\n",
    "    print(result_dict)\n",
    "    result_dict = ibm_db.fetch_assoc(selectStmt)"
   ]
  },
  {
   "cell_type": "markdown",
   "id": "ae90de2e",
   "metadata": {},
   "source": [
    "## Problem 9: Use a sub-query to find the name of the community area with highest hardship index."
   ]
  },
  {
   "cell_type": "code",
   "execution_count": 13,
   "id": "b582e04c",
   "metadata": {},
   "outputs": [
    {
     "name": "stdout",
     "output_type": "stream",
     "text": [
      "{'COMMUNITY_AREA_NAME': 'Riverdale', 'HARDSHIP_INDEX': 98}\n"
     ]
    }
   ],
   "source": [
    "#Construct the query that finds the name of the community area with highest hardship index\n",
    "selectQuery = \"select COMMUNITY_AREA_NAME,HARDSHIP_INDEX from CENSUS_DATA WHERE HARDSHIP_INDEX=(SELECT MAX(HARDSHIP_INDEX) FROM CENSUS_DATA) \"\n",
    "\n",
    "#Execute the statement\n",
    "selectStmt = ibm_db.exec_immediate(conn, selectQuery)\n",
    "\n",
    "result_dict = ibm_db.fetch_assoc(selectStmt)\n",
    "while result_dict is not False:\n",
    "    print(result_dict)\n",
    "    result_dict = ibm_db.fetch_assoc(selectStmt)"
   ]
  },
  {
   "cell_type": "markdown",
   "id": "aabdeef5",
   "metadata": {},
   "source": [
    "## Problem 10: Use a sub-query to determine the Community Area Name with most number of crimes?"
   ]
  },
  {
   "cell_type": "code",
   "execution_count": 14,
   "id": "1c655c8d",
   "metadata": {},
   "outputs": [
    {
     "name": "stdout",
     "output_type": "stream",
     "text": [
      "{'COMMUNITY_AREA_NAME': 'Austin', 'COMMUNITY_AREA_NUMBER': 25, 'CRIME_COUNT': 43}\n"
     ]
    }
   ],
   "source": [
    "#Construct the query that determines the Community Area Name with most number of crimes from the Chicago Crime data table\n",
    "selectQuery = \"\"\"select c.COMMUNITY_AREA_NAME,d.COMMUNITY_AREA_NUMBER,d.CRIME_COUNT FROM CENSUS_DATA c \n",
    "JOIN (select COMMUNITY_AREA_NUMBER,COUNT(*) AS CRIME_COUNT from CHICAGO_CRIME_DATA\n",
    "GROUP BY COMMUNITY_AREA_NUMBER\n",
    "HAVING COUNT(*) = (SELECT MAX(CRIME_COUNT) FROM (select COMMUNITY_AREA_NUMBER,COUNT(*) AS CRIME_COUNT\n",
    "from CHICAGO_CRIME_DATA GROUP BY COMMUNITY_AREA_NUMBER))) d on c.COMMUNITY_AREA_NUMBER=d.COMMUNITY_AREA_NUMBER\"\"\"\n",
    "\n",
    "#Execute the statement\n",
    "selectStmt = ibm_db.exec_immediate(conn, selectQuery)\n",
    "\n",
    "result_dict = ibm_db.fetch_assoc(selectStmt)\n",
    "while result_dict is not False:\n",
    "    print(result_dict)\n",
    "    result_dict = ibm_db.fetch_assoc(selectStmt)"
   ]
  }
 ],
 "metadata": {
  "kernelspec": {
   "display_name": "Python 3 (ipykernel)",
   "language": "python",
   "name": "python3"
  },
  "language_info": {
   "codemirror_mode": {
    "name": "ipython",
    "version": 3
   },
   "file_extension": ".py",
   "mimetype": "text/x-python",
   "name": "python",
   "nbconvert_exporter": "python",
   "pygments_lexer": "ipython3",
   "version": "3.9.12"
  }
 },
 "nbformat": 4,
 "nbformat_minor": 5
}
